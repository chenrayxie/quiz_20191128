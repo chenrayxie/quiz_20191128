{
 "cells": [
  {
   "cell_type": "code",
   "execution_count": null,
   "metadata": {},
   "outputs": [],
   "source": [
    "1.What will be the output of the following Python code?\n",
    "\n",
    "def say(message, times = 1):\n",
    "    print(message * times)\n",
    "say('Hello')\n",
    "say('World', 5)\n",
    "a)\n",
    "\n",
    "Hello\n",
    "WorldWorldWorldWorldWorld\n",
    "b)\n",
    "\n",
    "Hello\n",
    "World 5\n",
    "c)\n",
    "\n",
    "Hello\n",
    "World,World,World,World,World\n",
    "d)\n",
    "\n",
    "Hello\n",
    "HelloHelloHelloHelloHello"
   ]
  },
  {
   "cell_type": "code",
   "execution_count": null,
   "metadata": {},
   "outputs": [],
   "source": [
    "2.What will be the output of the following Python code?\n",
    "x = 50\n",
    "def func():\n",
    "    global x\n",
    "    print('x is', x)\n",
    "    x = 2\n",
    "    print('Changed global x to', x)\n",
    "func()\n",
    "print('Value of x is', x)\n",
    "\n",
    "a)\n",
    "x is 50\n",
    "Changed global x to 2\n",
    "Value of x is 50\n",
    "advertisement\n",
    "\n",
    "b)\n",
    "x is 50\n",
    "Changed global x to 2\n",
    "Value of x is 2\n",
    "\n",
    "c)\n",
    "x is 50\n",
    "Changed global x to 50\n",
    "Value of x is 50\n",
    "\n",
    "d) None of the mentioned"
   ]
  },
  {
   "cell_type": "code",
   "execution_count": null,
   "metadata": {},
   "outputs": [],
   "source": [
    "3.What is called when a function is defined inside a class?\n",
    "a) Module\n",
    "b) Class\n",
    "c) Another function\n",
    "d) Method"
   ]
  },
  {
   "cell_type": "code",
   "execution_count": null,
   "metadata": {},
   "outputs": [],
   "source": [
    "4.1. Which are the advantages of functions in python?\n",
    "a) Reducing duplication of code\n",
    "b) Decomposing complex problems into simpler pieces\n",
    "c) Improving clarity of the code\n",
    "d) All of the mentioned"
   ]
  },
  {
   "cell_type": "code",
   "execution_count": null,
   "metadata": {},
   "outputs": [],
   "source": [
    "5.What will be the output of the following Python code?\n",
    "def power(x, y=2):\n",
    "    r = 1\n",
    "    for i in range(y):\n",
    "       r = r * x\n",
    "    return r\n",
    "print power(3)\n",
    "print power(3, 3)\n",
    "\n",
    "a)\n",
    "212\n",
    "32\n",
    "advertisement\n",
    "\n",
    "b)\n",
    "9\n",
    "27\n",
    "\n",
    "c)\n",
    "567\n",
    "98\n",
    "\n",
    "d) None of the mentioned"
   ]
  },
  {
   "cell_type": "markdown",
   "metadata": {},
   "source": [
    "6.What will be the output of the following Python code?\n",
    "L = [lambda x: x ** 2,\n",
    "     lambda x: x ** 3,\n",
    "     lambda x: x ** 4]\n",
    "for f in L:\n",
    "\tprint(f(3))\n",
    "\n",
    "a)\n",
    "27\n",
    "81\n",
    "343\n",
    "\n",
    "b)\n",
    "6\n",
    "9\n",
    "12\n",
    "\n",
    "c)\n",
    "9\n",
    "27\n",
    "81\n",
    "\n",
    "d) None of the mentioned"
   ]
  },
  {
   "cell_type": "markdown",
   "metadata": {},
   "source": [
    "7.Does Lambda contains return statements?\n",
    "a) True\n",
    "b) False"
   ]
  },
  {
   "cell_type": "markdown",
   "metadata": {},
   "source": [
    "8.What is a variable defined outside a function referred to as?\n",
    "a) A static variable\n",
    "b) A global variable\n",
    "c) A local variable\n",
    "d) An automatic variable"
   ]
  },
  {
   "cell_type": "markdown",
   "metadata": {},
   "source": [
    "9.What will be the output of the following Python code?\n",
    "i=0\n",
    "def change(i):\n",
    "   i=i+1\n",
    "   return i\n",
    "change(1)\n",
    "print(i)\n",
    "\n",
    "a) 1\n",
    "b) Nothing is displayed\n",
    "c) 0\n",
    "d) An exception is thrown"
   ]
  },
  {
   "cell_type": "markdown",
   "metadata": {},
   "source": [
    "10.What will be the output of the following Python code?\n",
    "a=10\n",
    "b=20\n",
    "def change():\n",
    "    global b\n",
    "    a=45\n",
    "    b=56\n",
    "change()\n",
    "print(a)\n",
    "print(b)\n",
    "\n",
    "a)\n",
    "10\n",
    "56\n",
    "\n",
    "b)\n",
    "45\n",
    "56\n",
    "\n",
    "c)\n",
    "10\n",
    "20\n",
    "\n",
    "d) Syntax Error"
   ]
  },
  {
   "cell_type": "markdown",
   "metadata": {},
   "source": [
    "11._____ represents an entity in the real world with its identity and behaviour.\n",
    "a) A method\n",
    "b) An object\n",
    "c) A class\n",
    "d) An operator"
   ]
  },
  {
   "cell_type": "markdown",
   "metadata": {},
   "source": [
    "12.What will be the output of the following Python code?\n",
    "class change:\n",
    "    def __init__(self, x, y, z):\n",
    "        self.a = x + y + z\n",
    " \n",
    "x = change(1,2,3)\n",
    "y = getattr(x, 'a')\n",
    "setattr(x, 'a', y+1)\n",
    "print(x.a)\n",
    "\n",
    "a) 6\n",
    "b) 7\n",
    "c) Error\n",
    "d) 0"
   ]
  },
  {
   "cell_type": "markdown",
   "metadata": {
    "ExecuteTime": {
     "end_time": "2019-11-27T14:14:24.774298Z",
     "start_time": "2019-11-27T14:14:24.764295Z"
    }
   },
   "source": [
    "12.Is the following Python code correct?\n",
    "\n",
    "class A:\n",
    "\tdef __init__(self,b):\n",
    "\t\tself.b=b\n",
    "\tdef display(self):\n",
    "\t\tprint(self.b)\n",
    "obj=A(\"Hello\")\n",
    "del obj\n",
    "\n",
    "a) True\n",
    "b) False"
   ]
  },
  {
   "cell_type": "markdown",
   "metadata": {},
   "source": [
    "13.Which of the following Python code creates an empty class?\n",
    "a)\n",
    "class A:\n",
    "    return\n",
    "    \n",
    "b)\n",
    "class A:\n",
    "    pass\n",
    "    \n",
    "c)\n",
    "class A:\n",
    "\n",
    "d) It is not possible to create an empty class"
   ]
  },
  {
   "cell_type": "markdown",
   "metadata": {},
   "source": [
    "14.What will be the output of the following Python code?\n",
    "class stud:\n",
    "   ‘Base class for all students’\n",
    "   def __init__(self, roll_no, grade):\n",
    "      self.roll_no = roll_no\n",
    "      self.grade = grade\n",
    "   def display (self):\n",
    "      print(\"Roll no : \", self.roll_no,  \", Grade: \", self.grade)\n",
    "print(student.__doc__)\n",
    "\n",
    "a) Exception is thrown\n",
    "b) __main__\n",
    "c) Nothing is displayed\n",
    "d) Base class for all students"
   ]
  },
  {
   "cell_type": "code",
   "execution_count": 1,
   "metadata": {
    "ExecuteTime": {
     "end_time": "2019-11-27T11:21:08.414075Z",
     "start_time": "2019-11-27T11:21:08.315086Z"
    }
   },
   "outputs": [
    {
     "ename": "NameError",
     "evalue": "name 'a' is not defined",
     "output_type": "error",
     "traceback": [
      "\u001b[1;31m---------------------------------------------------------------------------\u001b[0m",
      "\u001b[1;31mNameError\u001b[0m                                 Traceback (most recent call last)",
      "\u001b[1;32m<ipython-input-1-3f786850e387>\u001b[0m in \u001b[0;36m<module>\u001b[1;34m\u001b[0m\n\u001b[1;32m----> 1\u001b[1;33m \u001b[0ma\u001b[0m\u001b[1;33m\u001b[0m\u001b[1;33m\u001b[0m\u001b[0m\n\u001b[0m",
      "\u001b[1;31mNameError\u001b[0m: name 'a' is not defined"
     ]
    }
   ],
   "source": [
    "1.a\n",
    "2.b\n",
    "3.d\n",
    "4.d\n",
    "5.b\n",
    "6.c\n",
    "7.b\n",
    "8.b\n",
    "9.c\n",
    "10.a\n",
    "11.b\n",
    "12.a\n",
    "13.b\n",
    "14.d"
   ]
  },
  {
   "cell_type": "code",
   "execution_count": null,
   "metadata": {},
   "outputs": [],
   "source": []
  }
 ],
 "metadata": {
  "kernelspec": {
   "display_name": "Python 3",
   "language": "python",
   "name": "python3"
  },
  "language_info": {
   "codemirror_mode": {
    "name": "ipython",
    "version": 3
   },
   "file_extension": ".py",
   "mimetype": "text/x-python",
   "name": "python",
   "nbconvert_exporter": "python",
   "pygments_lexer": "ipython3",
   "version": "3.7.3"
  },
  "nbTranslate": {
   "displayLangs": [
    "*"
   ],
   "hotkey": "alt-t",
   "langInMainMenu": true,
   "sourceLang": "en",
   "targetLang": "fr",
   "useGoogleTranslate": true
  },
  "toc": {
   "base_numbering": 1,
   "nav_menu": {},
   "number_sections": true,
   "sideBar": true,
   "skip_h1_title": false,
   "title_cell": "Table of Contents",
   "title_sidebar": "Contents",
   "toc_cell": false,
   "toc_position": {},
   "toc_section_display": true,
   "toc_window_display": false
  },
  "varInspector": {
   "cols": {
    "lenName": 16,
    "lenType": 16,
    "lenVar": 40
   },
   "kernels_config": {
    "python": {
     "delete_cmd_postfix": "",
     "delete_cmd_prefix": "del ",
     "library": "var_list.py",
     "varRefreshCmd": "print(var_dic_list())"
    },
    "r": {
     "delete_cmd_postfix": ") ",
     "delete_cmd_prefix": "rm(",
     "library": "var_list.r",
     "varRefreshCmd": "cat(var_dic_list()) "
    }
   },
   "types_to_exclude": [
    "module",
    "function",
    "builtin_function_or_method",
    "instance",
    "_Feature"
   ],
   "window_display": false
  }
 },
 "nbformat": 4,
 "nbformat_minor": 2
}
