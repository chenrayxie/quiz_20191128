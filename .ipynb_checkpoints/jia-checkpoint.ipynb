{
 "cells": [
  {
   "cell_type": "markdown",
   "metadata": {},
   "source": [
    "1.What will be the output of the following Python code?\n",
    "\n",
    "def func(a, b=5, c=10):\n",
    "    print('a is', a, 'and b is', b, 'and c is', c)\n",
    " \n",
    "func(3, 7)\n",
    "func(25, c = 24)\n",
    "func(c = 50, a = 100)\n",
    "a)\n",
    "\n",
    "a is 7 and b is 3 and c is 10\n",
    "a is 25 and b is 5 and c is 24\n",
    "a is 5 and b is 100 and c is 50\n",
    "b)\n",
    "\n",
    "a is 3 and b is 7 and c is 10\n",
    "a is 5 and b is 25 and c is 24\n",
    "a is 50 and b is 100 and c is 5\n",
    "c)\n",
    "\n",
    "a is 3 and b is 7 and c is 10\n",
    "a is 25 and b is 5 and c is 24\n",
    "a is 100 and b is 5 and c is 50\n",
    "d) None of the mentioned"
   ]
  },
  {
   "cell_type": "markdown",
   "metadata": {},
   "source": [
    "2.What will be the output of the following Python code?\n",
    "\n",
    "x = 50\n",
    "def func(x):\n",
    "    print('x is', x)\n",
    "    x = 2\n",
    "    print('Changed local x to', x)\n",
    "func(x)\n",
    "print('x is now', x)\n",
    "\n",
    "a) x is now 50\n",
    "b) x is now 2\n",
    "c) x is now 100\n",
    "d) None of the mentioned"
   ]
  },
  {
   "cell_type": "markdown",
   "metadata": {},
   "source": [
    "3. Which keyword is used for function?\n",
    "a) Fun\n",
    "b) Define\n",
    "c) Def\n",
    "d) Function"
   ]
  },
  {
   "cell_type": "markdown",
   "metadata": {},
   "source": [
    "4.What are the two main types of functions?\n",
    "a) Custom function\n",
    "b) Built-in function & User defined function\n",
    "c) User function\n",
    "d) System function"
   ]
  },
  {
   "cell_type": "markdown",
   "metadata": {},
   "source": [
    "5.What will be the output of the following Python code?\n",
    "\n",
    "def sum(*args):\n",
    "   r = 0\n",
    "   for i in args:\n",
    "      r += i\n",
    "   return r\n",
    "print(sum(1, 2, 3))\n",
    "print(sum(1, 2, 3, 4, 5))\n",
    "\n",
    "a)\n",
    "6\n",
    "15\n",
    "\n",
    "b)\n",
    "6\n",
    "100\n",
    "\n",
    "c)\n",
    "123\n",
    "12345\n",
    "\n",
    "d) None of the mentioned"
   ]
  },
  {
   "cell_type": "markdown",
   "metadata": {},
   "source": [
    "6.Python supports the creation of anonymous functions at runtime, using a construct called __________\n",
    "a) lambda\n",
    "b) pi\n",
    "c) anonymous\n",
    "d) none of the mentioned"
   ]
  },
  {
   "cell_type": "markdown",
   "metadata": {},
   "source": [
    "7.What will be the output of the following Python code?\n",
    "def writer():\n",
    "\ttitle = 'Sir'\n",
    "\tname = (lambda x:title + ' ' + x)\n",
    "\treturn name\n",
    "who = writer()\n",
    "who('Arthur')\n",
    "\n",
    "a) Arthur Sir\n",
    "b) Sir Arthur\n",
    "c) Arthur\n",
    "d) None of the mentioned"
   ]
  },
  {
   "cell_type": "markdown",
   "metadata": {},
   "source": [
    "8.What is a variable defined inside a function referred to as?\n",
    "a) A global variable\n",
    "b) A volatile variable\n",
    "c) A local variable\n",
    "d) An automatic variable"
   ]
  },
  {
   "cell_type": "markdown",
   "metadata": {},
   "source": [
    "9.What will be the output of the following Python code?\n",
    "def change(i = 1, j = 2):\n",
    "    i = i + j\n",
    "    j = j + 1\n",
    "    print(i, j)\n",
    "change(j = 1, i = 2)\n",
    "\n",
    "a) An exception is thrown because of conflicting values\n",
    "b) 1 2\n",
    "c) 3 3\n",
    "d) 3 2"
   ]
  },
  {
   "cell_type": "markdown",
   "metadata": {},
   "source": [
    "10.If a function doesn’t have a return statement, which of the following does the function return?\n",
    "a) int\n",
    "b) null\n",
    "c) None\n",
    "d) An exception is thrown without the return statement"
   ]
  },
  {
   "cell_type": "markdown",
   "metadata": {},
   "source": [
    "11._____ is used to create an object.\n",
    "a) class\n",
    "b) constructor\n",
    "c) User-defined functions\n",
    "d) In-built functions"
   ]
  },
  {
   "cell_type": "markdown",
   "metadata": {},
   "source": [
    "12.What will be the output of the following Python code?\n",
    "class test:\n",
    "     def __init__(self,a=\"Hello World\"):\n",
    "         self.a=a\n",
    " \n",
    "     def display(self):\n",
    "         print(self.a)\n",
    "obj=test()\n",
    "obj.display()\n",
    "\n",
    "a) The program has an error because constructor can’t have default arguments\n",
    "b) Nothing is displayed\n",
    "c) “Hello World” is displayed\n",
    "d) The program has an error display function doesn’t have parameters"
   ]
  },
  {
   "cell_type": "markdown",
   "metadata": {},
   "source": [
    "13.Special methods need to be explicitly called during object creation.\n",
    "a) True\n",
    "b) False"
   ]
  },
  {
   "cell_type": "markdown",
   "metadata": {},
   "source": [
    "14.What does print(Test.__name__) display (assuming Test is the name of the class)?\n",
    "a) ()\n",
    "b) Exception is thrown\n",
    "c) Test\n",
    "d) __main__"
   ]
  },
  {
   "cell_type": "code",
   "execution_count": null,
   "metadata": {},
   "outputs": [],
   "source": [
    "1.c\n",
    "2.a\n",
    "3.c\n",
    "4.b\n",
    "5.a\n",
    "6.a\n",
    "7.b\n",
    "8.c\n",
    "9.d\n",
    "10.c\n",
    "11.b\n",
    "12.c\n",
    "13.\n",
    "14.c"
   ]
  },
  {
   "cell_type": "code",
   "execution_count": 10,
   "metadata": {
    "ExecuteTime": {
     "end_time": "2019-11-27T13:21:19.430287Z",
     "start_time": "2019-11-27T13:21:19.424286Z"
    }
   },
   "outputs": [
    {
     "name": "stdout",
     "output_type": "stream",
     "text": [
      "6\n",
      "15\n"
     ]
    }
   ],
   "source": [
    "def sum(*args):\n",
    "   r = 0\n",
    "   for i in args:\n",
    "      r += i\n",
    "   return r\n",
    "print(sum(1, 2, 3))\n",
    "print(sum(1, 2, 3, 4, 5))"
   ]
  }
 ],
 "metadata": {
  "kernelspec": {
   "display_name": "Python 3",
   "language": "python",
   "name": "python3"
  },
  "language_info": {
   "codemirror_mode": {
    "name": "ipython",
    "version": 3
   },
   "file_extension": ".py",
   "mimetype": "text/x-python",
   "name": "python",
   "nbconvert_exporter": "python",
   "pygments_lexer": "ipython3",
   "version": "3.7.3"
  },
  "nbTranslate": {
   "displayLangs": [
    "*"
   ],
   "hotkey": "alt-t",
   "langInMainMenu": true,
   "sourceLang": "en",
   "targetLang": "fr",
   "useGoogleTranslate": true
  },
  "toc": {
   "base_numbering": 1,
   "nav_menu": {},
   "number_sections": true,
   "sideBar": true,
   "skip_h1_title": false,
   "title_cell": "Table of Contents",
   "title_sidebar": "Contents",
   "toc_cell": false,
   "toc_position": {},
   "toc_section_display": true,
   "toc_window_display": false
  },
  "varInspector": {
   "cols": {
    "lenName": 16,
    "lenType": 16,
    "lenVar": 40
   },
   "kernels_config": {
    "python": {
     "delete_cmd_postfix": "",
     "delete_cmd_prefix": "del ",
     "library": "var_list.py",
     "varRefreshCmd": "print(var_dic_list())"
    },
    "r": {
     "delete_cmd_postfix": ") ",
     "delete_cmd_prefix": "rm(",
     "library": "var_list.r",
     "varRefreshCmd": "cat(var_dic_list()) "
    }
   },
   "types_to_exclude": [
    "module",
    "function",
    "builtin_function_or_method",
    "instance",
    "_Feature"
   ],
   "window_display": false
  }
 },
 "nbformat": 4,
 "nbformat_minor": 2
}
